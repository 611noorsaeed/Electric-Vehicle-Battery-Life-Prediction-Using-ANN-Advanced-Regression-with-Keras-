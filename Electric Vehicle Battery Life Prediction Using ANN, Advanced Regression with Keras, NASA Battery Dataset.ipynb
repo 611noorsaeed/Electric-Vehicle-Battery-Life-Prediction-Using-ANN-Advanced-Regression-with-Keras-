{
 "cells": [
  {
   "cell_type": "markdown",
   "id": "f4c3225f",
   "metadata": {},
   "source": [
    "# 1. Import Libraries\n"
   ]
  },
  {
   "cell_type": "code",
   "execution_count": null,
   "id": "30cab397",
   "metadata": {},
   "outputs": [],
   "source": [
    "# Import necessary libraries\n",
    "\n",
    "# For data manipulation\n",
    "import pandas as pd\n",
    "\n",
    "# For model building\n",
    "from tensorflow.keras.models import Sequential\n",
    "from tensorflow.keras.layers import Dense, Dropout\n",
    "\n",
    "# For preprocessing\n",
    "from sklearn.model_selection import train_test_split\n",
    "from sklearn.preprocessing import StandardScaler, LabelEncoder,MinMaxScaler\n"
   ]
  },
  {
   "cell_type": "code",
   "execution_count": null,
   "id": "1915b836",
   "metadata": {},
   "outputs": [],
   "source": [
    "# 2. Load Dataset\n",
    "df = pd.read_csv('metadata.csv')\n",
    "df.head()"
   ]
  },
  {
   "cell_type": "markdown",
   "id": "0c46a119",
   "metadata": {},
   "source": [
    "# 2 Data Preprocessing"
   ]
  },
  {
   "cell_type": "code",
   "execution_count": null,
   "id": "2d47ac9f",
   "metadata": {},
   "outputs": [],
   "source": [
    "\n",
    "# Drop unnecessary columns\n",
    "df = df.drop(['start_time', 'battery_id', 'test_id', 'uid', 'filename'], axis=1)\n",
    "df"
   ]
  },
  {
   "cell_type": "code",
   "execution_count": null,
   "id": "8032f5b0",
   "metadata": {},
   "outputs": [],
   "source": [
    "df.shape"
   ]
  },
  {
   "cell_type": "code",
   "execution_count": null,
   "id": "21a3c4ed",
   "metadata": {},
   "outputs": [],
   "source": [
    "df.isnull().sum()"
   ]
  },
  {
   "cell_type": "markdown",
   "id": "a075bc41",
   "metadata": {},
   "source": [
    "### filling missing values"
   ]
  },
  {
   "cell_type": "code",
   "execution_count": null,
   "id": "3d51cb30",
   "metadata": {},
   "outputs": [],
   "source": [
    "# Convert 'Re', 'Rct', and 'Capacity' to numeric, invalid parsing will be set to NaN\n",
    "df['Re'] = pd.to_numeric(df['Re'], errors='coerce')\n",
    "df['Rct'] = pd.to_numeric(df['Rct'], errors='coerce')\n",
    "df['Capacity'] = pd.to_numeric(df['Capacity'], errors='coerce')\n"
   ]
  },
  {
   "cell_type": "code",
   "execution_count": null,
   "id": "38d8fc76",
   "metadata": {},
   "outputs": [],
   "source": [
    "# Fill missing values in 'Re', 'Rct', and 'Capacity' with their respective means\n",
    "df['Re'].fillna(df['Re'].mean(), inplace=True)\n",
    "df['Rct'].fillna(df['Rct'].mean(), inplace=True)\n",
    "df['Capacity'].fillna(df['Capacity'].mean(), inplace=True)"
   ]
  },
  {
   "cell_type": "code",
   "execution_count": null,
   "id": "3683f072",
   "metadata": {},
   "outputs": [],
   "source": [
    "df"
   ]
  },
  {
   "cell_type": "markdown",
   "id": "47c3d1a7",
   "metadata": {},
   "source": [
    "# Encoding"
   ]
  },
  {
   "cell_type": "code",
   "execution_count": null,
   "id": "7591260a",
   "metadata": {},
   "outputs": [],
   "source": [
    "df['type'].value_counts()"
   ]
  },
  {
   "cell_type": "code",
   "execution_count": null,
   "id": "1a73e1a4",
   "metadata": {},
   "outputs": [],
   "source": [
    "# Initialize the LabelEncoder\n",
    "label_encoder = LabelEncoder()\n",
    "\n",
    "# Apply label encoding to the 'type' column\n",
    "df['type'] = label_encoder.fit_transform(df['type'])\n",
    "\n",
    "# Display the encoded dataframe\n",
    "df.head()\n"
   ]
  },
  {
   "cell_type": "markdown",
   "id": "a7b7e1c8",
   "metadata": {},
   "source": [
    "# Train Test Split"
   ]
  },
  {
   "cell_type": "code",
   "execution_count": null,
   "id": "29d80e44",
   "metadata": {},
   "outputs": [],
   "source": [
    "# Features (X) - All columns except 'ambient_temperature'\n",
    "X = df.drop(columns=['ambient_temperature'])\n",
    "\n",
    "# Target (y) - 'ambient_temperature' column\n",
    "y = df['ambient_temperature']\n",
    "\n",
    "# Split the data into 80% training and 20% testing\n",
    "X_train, X_test, y_train, y_test = train_test_split(X, y, test_size=0.2, random_state=42)\n",
    "\n",
    "# Display the shapes of the split data\n",
    "print(f'X_train shape: {X_train.shape}')\n",
    "print(f'X_test shape: {X_test.shape}')\n"
   ]
  },
  {
   "cell_type": "markdown",
   "id": "42275587",
   "metadata": {},
   "source": [
    "# Scalling"
   ]
  },
  {
   "cell_type": "code",
   "execution_count": null,
   "id": "d75caf8a",
   "metadata": {},
   "outputs": [],
   "source": [
    "# Initialize the StandardScaler\n",
    "scaler = MinMaxScaler()\n",
    "\n",
    "# Fit and transform the training data, then transform the test data\n",
    "X_train_scaled = scaler.fit_transform(X_train)\n",
    "X_test_scaled = scaler.transform(X_test)\n",
    "\n",
    "# Check the scaled data\n",
    "print(f'Scaled X_train: \\n{X_train_scaled[:5]}')\n"
   ]
  },
  {
   "cell_type": "markdown",
   "id": "13c76c3e",
   "metadata": {},
   "source": [
    "# Model Building"
   ]
  },
  {
   "cell_type": "code",
   "execution_count": null,
   "id": "87395ec2",
   "metadata": {},
   "outputs": [],
   "source": [
    "# Initialize the ANN model\n",
    "model = Sequential()\n",
    "\n",
    "# Input layer and first hidden layer with 64 units and ReLU activation\n",
    "model.add(Dense(units=64, activation='relu', input_dim=X_train_scaled.shape[1]))\n",
    "\n",
    "# Add Dropout layer with 0.2 rate (20% dropout)\n",
    "model.add(Dropout(0.2))\n",
    "\n",
    "# Second hidden layer with 32 units and ReLU activation\n",
    "model.add(Dense(units=32, activation='relu'))\n",
    "\n",
    "# Add another Dropout layer\n",
    "model.add(Dropout(0.2))\n",
    "\n",
    "# Output layer with 1 unit (for regression output), using a linear activation\n",
    "model.add(Dense(units=1, activation='linear'))\n",
    "\n",
    "# Compile the model with Adam optimizer and Mean Squared Error loss (for regression)\n",
    "model.compile(optimizer='adam', loss='mean_squared_error')\n",
    "\n",
    "# Summary of the model architecture\n",
    "model.summary()\n"
   ]
  },
  {
   "cell_type": "code",
   "execution_count": null,
   "id": "d58dfe82",
   "metadata": {},
   "outputs": [],
   "source": [
    "# Train the model on the training data, using the test data for validation\n",
    "history = model.fit(X_train_scaled, y_train, epochs=200, batch_size=32, validation_data=(X_test_scaled, y_test))"
   ]
  },
  {
   "cell_type": "markdown",
   "id": "841483a7",
   "metadata": {},
   "source": [
    "# Model Evaluation"
   ]
  },
  {
   "cell_type": "code",
   "execution_count": null,
   "id": "d041db44",
   "metadata": {},
   "outputs": [],
   "source": [
    "# Plot training and validation loss (optional)\n",
    "import matplotlib.pyplot as plt\n",
    "\n",
    "plt.plot(history.history['loss'], label='Training Loss')\n",
    "plt.plot(history.history['val_loss'], label='Validation Loss')\n",
    "plt.legend()\n",
    "plt.xlabel('Epochs')\n",
    "plt.ylabel('Loss')\n",
    "plt.title('Training and Validation Loss')\n",
    "plt.show()"
   ]
  },
  {
   "cell_type": "code",
   "execution_count": null,
   "id": "f7d8a327",
   "metadata": {},
   "outputs": [],
   "source": [
    "# Evaluate the model on the test data\n",
    "mse = model.evaluate(X_test_scaled, y_test)\n",
    "\n",
    "# Print the Mean Squared Error (MSE)\n",
    "print(f'Mean Squared Error on test set: {mse}')\n"
   ]
  },
  {
   "cell_type": "markdown",
   "id": "aaf44260",
   "metadata": {},
   "source": [
    "# Prediction System"
   ]
  },
  {
   "cell_type": "code",
   "execution_count": null,
   "id": "344b3f01",
   "metadata": {},
   "outputs": [],
   "source": [
    "import numpy as np\n",
    "\n",
    "def predict_battery_life(type_discharge, Capacity, Re, Rct, label_encoder, scaler, model):\n",
    "    # Encode the categorical feature\n",
    "    type_discharge_encoded = label_encoder.transform([type_discharge])[0]\n",
    "    \n",
    "    # Prepare the input feature vector\n",
    "    X_input = np.array([[Capacity, Re, Rct, type_discharge_encoded]])\n",
    "    \n",
    "    # Scale the input features using the same scaler\n",
    "    X_input_scaled = scaler.transform(X_input)\n",
    "    \n",
    "    # Predict the battery life (ambient_temperature)\n",
    "    predicted_battery_life = model.predict(X_input_scaled)\n",
    "    \n",
    "    return predicted_battery_life[0]\n",
    "\n",
    "# Example usage of the function\n",
    "type_discharge = 'discharge'  # Example input for type\n",
    "Capacity = 1.674305           # Example numeric value\n",
    "Re = -4.976500e+11            # Example numeric value\n",
    "Rct = 1.055903e+12            # Example numeric value\n",
    "\n",
    "# Call the prediction function\n",
    "predicted_battery_life = predict_battery_life(type_discharge, Capacity, Re, Rct, label_encoder, scaler, model)\n",
    "\n",
    "print(f\"Predicted Battery Life: {predicted_battery_life}\")\n"
   ]
  },
  {
   "cell_type": "code",
   "execution_count": null,
   "id": "f7272f0b",
   "metadata": {},
   "outputs": [],
   "source": [
    "# Example usage of the function with new input values\n",
    "type_discharge = 'charge'  # New input for type\n",
    "Capacity = 20.5            # Example numeric value for Capacity\n",
    "Re = -2.983215e+11         # Example numeric value for Re\n",
    "Rct = 1.223456e+12         # Example numeric value for Rct\n",
    "\n",
    "# Call the prediction function with these new values\n",
    "predicted_battery_life = predict_battery_life(type_discharge, Capacity, Re, Rct, label_encoder, scaler, model)\n",
    "\n",
    "# Print the predicted battery life\n",
    "print(f\"Predicted Battery Life: {predicted_battery_life}\")\n"
   ]
  },
  {
   "cell_type": "markdown",
   "id": "fe255174",
   "metadata": {},
   "source": [
    "# Save Files"
   ]
  },
  {
   "cell_type": "code",
   "execution_count": null,
   "id": "065bd1b6",
   "metadata": {},
   "outputs": [],
   "source": [
    "import pickle\n",
    "\n",
    "# Save the model, scaler, and label encoder to disk\n",
    "with open('battery_life_model.pkl', 'wb') as model_file:\n",
    "    pickle.dump(model, model_file)\n",
    "\n",
    "with open('scaler.pkl', 'wb') as scaler_file:\n",
    "    pickle.dump(scaler, scaler_file)\n",
    "\n",
    "with open('label_encoder.pkl', 'wb') as le_file:\n",
    "    pickle.dump(label_encoder, le_file)\n"
   ]
  },
  {
   "cell_type": "code",
   "execution_count": null,
   "id": "33bffaa1",
   "metadata": {},
   "outputs": [],
   "source": []
  }
 ],
 "metadata": {
  "kernelspec": {
   "display_name": "Python 3 (ipykernel)",
   "language": "python",
   "name": "python3"
  },
  "language_info": {
   "codemirror_mode": {
    "name": "ipython",
    "version": 3
   },
   "file_extension": ".py",
   "mimetype": "text/x-python",
   "name": "python",
   "nbconvert_exporter": "python",
   "pygments_lexer": "ipython3",
   "version": "3.9.12"
  }
 },
 "nbformat": 4,
 "nbformat_minor": 5
}
